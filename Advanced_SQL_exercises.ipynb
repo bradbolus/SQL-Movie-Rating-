{
  "nbformat": 4,
  "nbformat_minor": 0,
  "metadata": {
    "kernelspec": {
      "display_name": "Python 3",
      "language": "python",
      "name": "python3"
    },
    "language_info": {
      "codemirror_mode": {
        "name": "ipython",
        "version": 3
      },
      "file_extension": ".py",
      "mimetype": "text/x-python",
      "name": "python",
      "nbconvert_exporter": "python",
      "pygments_lexer": "ipython3",
      "version": "3.8.5"
    },
    "colab": {
      "name": "Advanced_SQL_exercises.ipynb",
      "provenance": [],
      "collapsed_sections": []
    }
  },
  "cells": [
    {
      "cell_type": "markdown",
      "metadata": {
        "id": "9RzQohSBaAKL"
      },
      "source": [
        "# SQL Movie-Rating Exercise"
      ]
    },
    {
      "cell_type": "markdown",
      "metadata": {
        "id": "-VtqjXGNaAKL"
      },
      "source": [
        "![](https://cinemaspotlightblog.files.wordpress.com/2020/01/untitled-1.png?w=1004&h=558&crop=1)"
      ]
    },
    {
      "cell_type": "markdown",
      "metadata": {
        "id": "fQo8xoaFaAKL"
      },
      "source": [
        "You've started a new movie-rating website, and you've been collecting data on reviewers' ratings of various movies. There's not much data yet, but you can still try out some interesting queries. Here's the schema:\n",
        "\n",
        "- Movie ( mID, title, year, director )\n",
        "English: There is a movie with ID number mID, a title, a release year, and a director.\n",
        "\n",
        "- Reviewer ( rID, name )\n",
        "English: The reviewer with ID number rID has a certain name.\n",
        "\n",
        "- Rating ( rID, mID, stars, ratingDate )\n",
        "English: The reviewer rID gave the movie mID a number of stars rating (1-5) on a certain ratingDate.\n",
        "\n",
        "\n",
        "Your queries will run over a small data set conforming to the schema.\n"
      ]
    },
    {
      "cell_type": "code",
      "metadata": {
        "id": "IuE-iAuOaAKL"
      },
      "source": [
        "import sqlite3\n",
        "import pandas as pd"
      ],
      "execution_count": null,
      "outputs": []
    },
    {
      "cell_type": "code",
      "metadata": {
        "colab": {
          "base_uri": "https://localhost:8080/"
        },
        "id": "AbpOeUFiexgw",
        "outputId": "09f2c272-c063-4910-a011-638867c322c4"
      },
      "source": [
        "from google.colab import drive\n",
        "drive.mount('/content/drive')"
      ],
      "execution_count": null,
      "outputs": [
        {
          "output_type": "stream",
          "text": [
            "Mounted at /content/drive\n"
          ],
          "name": "stdout"
        }
      ]
    },
    {
      "cell_type": "code",
      "metadata": {
        "id": "rHbUrD_8fLLg"
      },
      "source": [
        "PATH = '/content/drive/MyDrive/FTMLE | 2021.03 | Japan/Week_2/Dataset/rating.sql'"
      ],
      "execution_count": null,
      "outputs": []
    },
    {
      "cell_type": "code",
      "metadata": {
        "colab": {
          "base_uri": "https://localhost:8080/"
        },
        "id": "refqJmxdaAKL",
        "outputId": "28f79468-260a-4950-e981-dd265a7a3a59"
      },
      "source": [
        "conn = sqlite3.connect(\"movie.db\")\n",
        "cursor = conn.cursor()\n",
        "sql_file = open(PATH)\n",
        "sql_as_string = sql_file.read()\n",
        "cursor.executescript(sql_as_string)"
      ],
      "execution_count": null,
      "outputs": [
        {
          "output_type": "execute_result",
          "data": {
            "text/plain": [
              "<sqlite3.Cursor at 0x7f4a0f480f80>"
            ]
          },
          "metadata": {
            "tags": []
          },
          "execution_count": 4
        }
      ]
    },
    {
      "cell_type": "code",
      "metadata": {
        "colab": {
          "base_uri": "https://localhost:8080/",
          "height": 139
        },
        "id": "ZQimLX6iaAKM",
        "outputId": "3d6cb65c-a926-41d5-f3c9-513b0ab9191a"
      },
      "source": [
        "pd.read_sql_query(\"SELECT name FROM sqlite_master WHERE type = 'table'\", conn)"
      ],
      "execution_count": null,
      "outputs": [
        {
          "output_type": "execute_result",
          "data": {
            "text/html": [
              "<div>\n",
              "<style scoped>\n",
              "    .dataframe tbody tr th:only-of-type {\n",
              "        vertical-align: middle;\n",
              "    }\n",
              "\n",
              "    .dataframe tbody tr th {\n",
              "        vertical-align: top;\n",
              "    }\n",
              "\n",
              "    .dataframe thead th {\n",
              "        text-align: right;\n",
              "    }\n",
              "</style>\n",
              "<table border=\"1\" class=\"dataframe\">\n",
              "  <thead>\n",
              "    <tr style=\"text-align: right;\">\n",
              "      <th></th>\n",
              "      <th>name</th>\n",
              "    </tr>\n",
              "  </thead>\n",
              "  <tbody>\n",
              "    <tr>\n",
              "      <th>0</th>\n",
              "      <td>Movie</td>\n",
              "    </tr>\n",
              "    <tr>\n",
              "      <th>1</th>\n",
              "      <td>Reviewer</td>\n",
              "    </tr>\n",
              "    <tr>\n",
              "      <th>2</th>\n",
              "      <td>Rating</td>\n",
              "    </tr>\n",
              "  </tbody>\n",
              "</table>\n",
              "</div>"
            ],
            "text/plain": [
              "       name\n",
              "0     Movie\n",
              "1  Reviewer\n",
              "2    Rating"
            ]
          },
          "metadata": {
            "tags": []
          },
          "execution_count": 5
        }
      ]
    },
    {
      "cell_type": "code",
      "metadata": {
        "colab": {
          "base_uri": "https://localhost:8080/",
          "height": 290
        },
        "id": "jUbqJWsXfY5P",
        "outputId": "5898da8d-6e97-49eb-b0b4-da48d755d622"
      },
      "source": [
        "pd.read_sql_query(\"SELECT * FROM Movie\", conn)"
      ],
      "execution_count": null,
      "outputs": [
        {
          "output_type": "execute_result",
          "data": {
            "text/html": [
              "<div>\n",
              "<style scoped>\n",
              "    .dataframe tbody tr th:only-of-type {\n",
              "        vertical-align: middle;\n",
              "    }\n",
              "\n",
              "    .dataframe tbody tr th {\n",
              "        vertical-align: top;\n",
              "    }\n",
              "\n",
              "    .dataframe thead th {\n",
              "        text-align: right;\n",
              "    }\n",
              "</style>\n",
              "<table border=\"1\" class=\"dataframe\">\n",
              "  <thead>\n",
              "    <tr style=\"text-align: right;\">\n",
              "      <th></th>\n",
              "      <th>mID</th>\n",
              "      <th>title</th>\n",
              "      <th>year</th>\n",
              "      <th>director</th>\n",
              "    </tr>\n",
              "  </thead>\n",
              "  <tbody>\n",
              "    <tr>\n",
              "      <th>0</th>\n",
              "      <td>101</td>\n",
              "      <td>Gone with the Wind</td>\n",
              "      <td>1939</td>\n",
              "      <td>Victor Fleming</td>\n",
              "    </tr>\n",
              "    <tr>\n",
              "      <th>1</th>\n",
              "      <td>102</td>\n",
              "      <td>Star Wars</td>\n",
              "      <td>1977</td>\n",
              "      <td>George Lucas</td>\n",
              "    </tr>\n",
              "    <tr>\n",
              "      <th>2</th>\n",
              "      <td>103</td>\n",
              "      <td>The Sound of Music</td>\n",
              "      <td>1965</td>\n",
              "      <td>Robert Wise</td>\n",
              "    </tr>\n",
              "    <tr>\n",
              "      <th>3</th>\n",
              "      <td>104</td>\n",
              "      <td>E.T.</td>\n",
              "      <td>1982</td>\n",
              "      <td>Steven Spielberg</td>\n",
              "    </tr>\n",
              "    <tr>\n",
              "      <th>4</th>\n",
              "      <td>105</td>\n",
              "      <td>Titanic</td>\n",
              "      <td>1997</td>\n",
              "      <td>James Cameron</td>\n",
              "    </tr>\n",
              "    <tr>\n",
              "      <th>5</th>\n",
              "      <td>106</td>\n",
              "      <td>Snow White</td>\n",
              "      <td>1937</td>\n",
              "      <td>None</td>\n",
              "    </tr>\n",
              "    <tr>\n",
              "      <th>6</th>\n",
              "      <td>107</td>\n",
              "      <td>Avatar</td>\n",
              "      <td>2009</td>\n",
              "      <td>James Cameron</td>\n",
              "    </tr>\n",
              "    <tr>\n",
              "      <th>7</th>\n",
              "      <td>108</td>\n",
              "      <td>Raiders of the Lost Ark</td>\n",
              "      <td>1981</td>\n",
              "      <td>Steven Spielberg</td>\n",
              "    </tr>\n",
              "  </tbody>\n",
              "</table>\n",
              "</div>"
            ],
            "text/plain": [
              "   mID                    title  year          director\n",
              "0  101       Gone with the Wind  1939    Victor Fleming\n",
              "1  102                Star Wars  1977      George Lucas\n",
              "2  103       The Sound of Music  1965       Robert Wise\n",
              "3  104                     E.T.  1982  Steven Spielberg\n",
              "4  105                  Titanic  1997     James Cameron\n",
              "5  106               Snow White  1937              None\n",
              "6  107                   Avatar  2009     James Cameron\n",
              "7  108  Raiders of the Lost Ark  1981  Steven Spielberg"
            ]
          },
          "metadata": {
            "tags": []
          },
          "execution_count": 6
        }
      ]
    },
    {
      "cell_type": "code",
      "metadata": {
        "colab": {
          "base_uri": "https://localhost:8080/",
          "height": 290
        },
        "id": "WfBAHSOGfbV2",
        "outputId": "7b4fd845-7d56-4b4a-c84f-e7a0982216d4"
      },
      "source": [
        "pd.read_sql_query(\"SELECT * FROM Reviewer\", conn)"
      ],
      "execution_count": null,
      "outputs": [
        {
          "output_type": "execute_result",
          "data": {
            "text/html": [
              "<div>\n",
              "<style scoped>\n",
              "    .dataframe tbody tr th:only-of-type {\n",
              "        vertical-align: middle;\n",
              "    }\n",
              "\n",
              "    .dataframe tbody tr th {\n",
              "        vertical-align: top;\n",
              "    }\n",
              "\n",
              "    .dataframe thead th {\n",
              "        text-align: right;\n",
              "    }\n",
              "</style>\n",
              "<table border=\"1\" class=\"dataframe\">\n",
              "  <thead>\n",
              "    <tr style=\"text-align: right;\">\n",
              "      <th></th>\n",
              "      <th>rID</th>\n",
              "      <th>name</th>\n",
              "    </tr>\n",
              "  </thead>\n",
              "  <tbody>\n",
              "    <tr>\n",
              "      <th>0</th>\n",
              "      <td>201</td>\n",
              "      <td>Sarah Martinez</td>\n",
              "    </tr>\n",
              "    <tr>\n",
              "      <th>1</th>\n",
              "      <td>202</td>\n",
              "      <td>Daniel Lewis</td>\n",
              "    </tr>\n",
              "    <tr>\n",
              "      <th>2</th>\n",
              "      <td>203</td>\n",
              "      <td>Brittany Harris</td>\n",
              "    </tr>\n",
              "    <tr>\n",
              "      <th>3</th>\n",
              "      <td>204</td>\n",
              "      <td>Mike Anderson</td>\n",
              "    </tr>\n",
              "    <tr>\n",
              "      <th>4</th>\n",
              "      <td>205</td>\n",
              "      <td>Chris Jackson</td>\n",
              "    </tr>\n",
              "    <tr>\n",
              "      <th>5</th>\n",
              "      <td>206</td>\n",
              "      <td>Elizabeth Thomas</td>\n",
              "    </tr>\n",
              "    <tr>\n",
              "      <th>6</th>\n",
              "      <td>207</td>\n",
              "      <td>James Cameron</td>\n",
              "    </tr>\n",
              "    <tr>\n",
              "      <th>7</th>\n",
              "      <td>208</td>\n",
              "      <td>Ashley White</td>\n",
              "    </tr>\n",
              "  </tbody>\n",
              "</table>\n",
              "</div>"
            ],
            "text/plain": [
              "   rID              name\n",
              "0  201    Sarah Martinez\n",
              "1  202      Daniel Lewis\n",
              "2  203   Brittany Harris\n",
              "3  204     Mike Anderson\n",
              "4  205     Chris Jackson\n",
              "5  206  Elizabeth Thomas\n",
              "6  207     James Cameron\n",
              "7  208      Ashley White"
            ]
          },
          "metadata": {
            "tags": []
          },
          "execution_count": 7
        }
      ]
    },
    {
      "cell_type": "code",
      "metadata": {
        "colab": {
          "base_uri": "https://localhost:8080/",
          "height": 472
        },
        "id": "WAQJjXC7ffX7",
        "outputId": "cde80da6-6cb7-4992-d5e2-398420e75cbf"
      },
      "source": [
        "pd.read_sql_query(\"SELECT * FROM Rating\", conn)"
      ],
      "execution_count": null,
      "outputs": [
        {
          "output_type": "execute_result",
          "data": {
            "text/html": [
              "<div>\n",
              "<style scoped>\n",
              "    .dataframe tbody tr th:only-of-type {\n",
              "        vertical-align: middle;\n",
              "    }\n",
              "\n",
              "    .dataframe tbody tr th {\n",
              "        vertical-align: top;\n",
              "    }\n",
              "\n",
              "    .dataframe thead th {\n",
              "        text-align: right;\n",
              "    }\n",
              "</style>\n",
              "<table border=\"1\" class=\"dataframe\">\n",
              "  <thead>\n",
              "    <tr style=\"text-align: right;\">\n",
              "      <th></th>\n",
              "      <th>rID</th>\n",
              "      <th>mID</th>\n",
              "      <th>stars</th>\n",
              "      <th>ratingDate</th>\n",
              "    </tr>\n",
              "  </thead>\n",
              "  <tbody>\n",
              "    <tr>\n",
              "      <th>0</th>\n",
              "      <td>201</td>\n",
              "      <td>101</td>\n",
              "      <td>2</td>\n",
              "      <td>2011-01-22</td>\n",
              "    </tr>\n",
              "    <tr>\n",
              "      <th>1</th>\n",
              "      <td>201</td>\n",
              "      <td>101</td>\n",
              "      <td>4</td>\n",
              "      <td>2011-01-27</td>\n",
              "    </tr>\n",
              "    <tr>\n",
              "      <th>2</th>\n",
              "      <td>202</td>\n",
              "      <td>106</td>\n",
              "      <td>4</td>\n",
              "      <td>None</td>\n",
              "    </tr>\n",
              "    <tr>\n",
              "      <th>3</th>\n",
              "      <td>203</td>\n",
              "      <td>103</td>\n",
              "      <td>2</td>\n",
              "      <td>2011-01-20</td>\n",
              "    </tr>\n",
              "    <tr>\n",
              "      <th>4</th>\n",
              "      <td>203</td>\n",
              "      <td>108</td>\n",
              "      <td>4</td>\n",
              "      <td>2011-01-12</td>\n",
              "    </tr>\n",
              "    <tr>\n",
              "      <th>5</th>\n",
              "      <td>203</td>\n",
              "      <td>108</td>\n",
              "      <td>2</td>\n",
              "      <td>2011-01-30</td>\n",
              "    </tr>\n",
              "    <tr>\n",
              "      <th>6</th>\n",
              "      <td>204</td>\n",
              "      <td>101</td>\n",
              "      <td>3</td>\n",
              "      <td>2011-01-09</td>\n",
              "    </tr>\n",
              "    <tr>\n",
              "      <th>7</th>\n",
              "      <td>205</td>\n",
              "      <td>103</td>\n",
              "      <td>3</td>\n",
              "      <td>2011-01-27</td>\n",
              "    </tr>\n",
              "    <tr>\n",
              "      <th>8</th>\n",
              "      <td>205</td>\n",
              "      <td>104</td>\n",
              "      <td>2</td>\n",
              "      <td>2011-01-22</td>\n",
              "    </tr>\n",
              "    <tr>\n",
              "      <th>9</th>\n",
              "      <td>205</td>\n",
              "      <td>108</td>\n",
              "      <td>4</td>\n",
              "      <td>None</td>\n",
              "    </tr>\n",
              "    <tr>\n",
              "      <th>10</th>\n",
              "      <td>206</td>\n",
              "      <td>107</td>\n",
              "      <td>3</td>\n",
              "      <td>2011-01-15</td>\n",
              "    </tr>\n",
              "    <tr>\n",
              "      <th>11</th>\n",
              "      <td>206</td>\n",
              "      <td>106</td>\n",
              "      <td>5</td>\n",
              "      <td>2011-01-19</td>\n",
              "    </tr>\n",
              "    <tr>\n",
              "      <th>12</th>\n",
              "      <td>207</td>\n",
              "      <td>107</td>\n",
              "      <td>5</td>\n",
              "      <td>2011-01-20</td>\n",
              "    </tr>\n",
              "    <tr>\n",
              "      <th>13</th>\n",
              "      <td>208</td>\n",
              "      <td>104</td>\n",
              "      <td>3</td>\n",
              "      <td>2011-01-02</td>\n",
              "    </tr>\n",
              "  </tbody>\n",
              "</table>\n",
              "</div>"
            ],
            "text/plain": [
              "    rID  mID  stars  ratingDate\n",
              "0   201  101      2  2011-01-22\n",
              "1   201  101      4  2011-01-27\n",
              "2   202  106      4        None\n",
              "3   203  103      2  2011-01-20\n",
              "4   203  108      4  2011-01-12\n",
              "5   203  108      2  2011-01-30\n",
              "6   204  101      3  2011-01-09\n",
              "7   205  103      3  2011-01-27\n",
              "8   205  104      2  2011-01-22\n",
              "9   205  108      4        None\n",
              "10  206  107      3  2011-01-15\n",
              "11  206  106      5  2011-01-19\n",
              "12  207  107      5  2011-01-20\n",
              "13  208  104      3  2011-01-02"
            ]
          },
          "metadata": {
            "tags": []
          },
          "execution_count": 8
        }
      ]
    },
    {
      "cell_type": "markdown",
      "metadata": {
        "id": "JHD-wgEWaAKN"
      },
      "source": [
        "## Question 1"
      ]
    },
    {
      "cell_type": "markdown",
      "metadata": {
        "id": "3SoY9eSraAKN"
      },
      "source": [
        "Find the titles of all movies directed by Steven Spielberg."
      ]
    },
    {
      "cell_type": "code",
      "metadata": {
        "id": "6qn_MaWiaAKN",
        "colab": {
          "base_uri": "https://localhost:8080/",
          "height": 108
        },
        "outputId": "cdf2b9d1-3d76-46bf-b350-97a9294f1780"
      },
      "source": [
        "query = '''\n",
        "SELECT title FROM Movie WHERE director = 'Steven Spielberg'\n",
        "\n",
        "'''\n",
        "\n",
        "pd.read_sql_query(query, conn)"
      ],
      "execution_count": null,
      "outputs": [
        {
          "output_type": "execute_result",
          "data": {
            "text/html": [
              "<div>\n",
              "<style scoped>\n",
              "    .dataframe tbody tr th:only-of-type {\n",
              "        vertical-align: middle;\n",
              "    }\n",
              "\n",
              "    .dataframe tbody tr th {\n",
              "        vertical-align: top;\n",
              "    }\n",
              "\n",
              "    .dataframe thead th {\n",
              "        text-align: right;\n",
              "    }\n",
              "</style>\n",
              "<table border=\"1\" class=\"dataframe\">\n",
              "  <thead>\n",
              "    <tr style=\"text-align: right;\">\n",
              "      <th></th>\n",
              "      <th>title</th>\n",
              "    </tr>\n",
              "  </thead>\n",
              "  <tbody>\n",
              "    <tr>\n",
              "      <th>0</th>\n",
              "      <td>E.T.</td>\n",
              "    </tr>\n",
              "    <tr>\n",
              "      <th>1</th>\n",
              "      <td>Raiders of the Lost Ark</td>\n",
              "    </tr>\n",
              "  </tbody>\n",
              "</table>\n",
              "</div>"
            ],
            "text/plain": [
              "                     title\n",
              "0                     E.T.\n",
              "1  Raiders of the Lost Ark"
            ]
          },
          "metadata": {
            "tags": []
          },
          "execution_count": 9
        }
      ]
    },
    {
      "cell_type": "markdown",
      "metadata": {
        "id": "-yjz0vZkaAKN"
      },
      "source": [
        "## Question 2"
      ]
    },
    {
      "cell_type": "markdown",
      "metadata": {
        "id": "nNOcs1qJaAKN"
      },
      "source": [
        "Find all years that have a movie that received a rating of 4 or 5, and sort them in increasing order."
      ]
    },
    {
      "cell_type": "code",
      "metadata": {
        "id": "XejiHfBDaAKN",
        "colab": {
          "base_uri": "https://localhost:8080/",
          "height": 169
        },
        "outputId": "f678bb04-b9ac-4c45-f44d-01a7fc4c54db"
      },
      "source": [
        "query = '''\n",
        "SELECT DISTINCT M.year\n",
        "\n",
        "FROM Movie M\n",
        "    JOIN Rating RA on M.mID = RA.mID\n",
        "\n",
        "WHERE RA.stars in (4,5)\n",
        "\n",
        "ORDER BY M.year\n",
        "'''\n",
        "\n",
        "pd.read_sql_query(query, conn)"
      ],
      "execution_count": null,
      "outputs": [
        {
          "output_type": "execute_result",
          "data": {
            "text/html": [
              "<div>\n",
              "<style scoped>\n",
              "    .dataframe tbody tr th:only-of-type {\n",
              "        vertical-align: middle;\n",
              "    }\n",
              "\n",
              "    .dataframe tbody tr th {\n",
              "        vertical-align: top;\n",
              "    }\n",
              "\n",
              "    .dataframe thead th {\n",
              "        text-align: right;\n",
              "    }\n",
              "</style>\n",
              "<table border=\"1\" class=\"dataframe\">\n",
              "  <thead>\n",
              "    <tr style=\"text-align: right;\">\n",
              "      <th></th>\n",
              "      <th>year</th>\n",
              "    </tr>\n",
              "  </thead>\n",
              "  <tbody>\n",
              "    <tr>\n",
              "      <th>0</th>\n",
              "      <td>1937</td>\n",
              "    </tr>\n",
              "    <tr>\n",
              "      <th>1</th>\n",
              "      <td>1939</td>\n",
              "    </tr>\n",
              "    <tr>\n",
              "      <th>2</th>\n",
              "      <td>1981</td>\n",
              "    </tr>\n",
              "    <tr>\n",
              "      <th>3</th>\n",
              "      <td>2009</td>\n",
              "    </tr>\n",
              "  </tbody>\n",
              "</table>\n",
              "</div>"
            ],
            "text/plain": [
              "   year\n",
              "0  1937\n",
              "1  1939\n",
              "2  1981\n",
              "3  2009"
            ]
          },
          "metadata": {
            "tags": []
          },
          "execution_count": 10
        }
      ]
    },
    {
      "cell_type": "markdown",
      "metadata": {
        "id": "vA6FzkTsaAKN"
      },
      "source": [
        "## Question 3"
      ]
    },
    {
      "cell_type": "markdown",
      "metadata": {
        "id": "1NsgdxGeaAKN"
      },
      "source": [
        "Write a query to return the ratings data in a more readable format: reviewer name, movie title, stars, and ratingDate. Also, sort the data, first by reviewer name, then by movie title, and lastly by number of stars."
      ]
    },
    {
      "cell_type": "code",
      "metadata": {
        "id": "B-Hz8PoQaAKN",
        "colab": {
          "base_uri": "https://localhost:8080/",
          "height": 472
        },
        "outputId": "e099f3ea-4dd6-445a-cebe-1a37c3945d65"
      },
      "source": [
        "query = '''\n",
        "SELECT R.name,M.title,RA.stars,RA.ratingDate\n",
        "\n",
        "FROM Rating RA\n",
        "    JOIN Movie M ON RA.mID = M.mID \n",
        "    JOIN Reviewer R ON RA.rID = R.rID\n",
        "\n",
        "ORDER BY R.name,M.title,RA.stars\n",
        "'''\n",
        "\n",
        "pd.read_sql_query(query, conn)"
      ],
      "execution_count": null,
      "outputs": [
        {
          "output_type": "execute_result",
          "data": {
            "text/html": [
              "<div>\n",
              "<style scoped>\n",
              "    .dataframe tbody tr th:only-of-type {\n",
              "        vertical-align: middle;\n",
              "    }\n",
              "\n",
              "    .dataframe tbody tr th {\n",
              "        vertical-align: top;\n",
              "    }\n",
              "\n",
              "    .dataframe thead th {\n",
              "        text-align: right;\n",
              "    }\n",
              "</style>\n",
              "<table border=\"1\" class=\"dataframe\">\n",
              "  <thead>\n",
              "    <tr style=\"text-align: right;\">\n",
              "      <th></th>\n",
              "      <th>name</th>\n",
              "      <th>title</th>\n",
              "      <th>stars</th>\n",
              "      <th>ratingDate</th>\n",
              "    </tr>\n",
              "  </thead>\n",
              "  <tbody>\n",
              "    <tr>\n",
              "      <th>0</th>\n",
              "      <td>Ashley White</td>\n",
              "      <td>E.T.</td>\n",
              "      <td>3</td>\n",
              "      <td>2011-01-02</td>\n",
              "    </tr>\n",
              "    <tr>\n",
              "      <th>1</th>\n",
              "      <td>Brittany Harris</td>\n",
              "      <td>Raiders of the Lost Ark</td>\n",
              "      <td>2</td>\n",
              "      <td>2011-01-30</td>\n",
              "    </tr>\n",
              "    <tr>\n",
              "      <th>2</th>\n",
              "      <td>Brittany Harris</td>\n",
              "      <td>Raiders of the Lost Ark</td>\n",
              "      <td>4</td>\n",
              "      <td>2011-01-12</td>\n",
              "    </tr>\n",
              "    <tr>\n",
              "      <th>3</th>\n",
              "      <td>Brittany Harris</td>\n",
              "      <td>The Sound of Music</td>\n",
              "      <td>2</td>\n",
              "      <td>2011-01-20</td>\n",
              "    </tr>\n",
              "    <tr>\n",
              "      <th>4</th>\n",
              "      <td>Chris Jackson</td>\n",
              "      <td>E.T.</td>\n",
              "      <td>2</td>\n",
              "      <td>2011-01-22</td>\n",
              "    </tr>\n",
              "    <tr>\n",
              "      <th>5</th>\n",
              "      <td>Chris Jackson</td>\n",
              "      <td>Raiders of the Lost Ark</td>\n",
              "      <td>4</td>\n",
              "      <td>None</td>\n",
              "    </tr>\n",
              "    <tr>\n",
              "      <th>6</th>\n",
              "      <td>Chris Jackson</td>\n",
              "      <td>The Sound of Music</td>\n",
              "      <td>3</td>\n",
              "      <td>2011-01-27</td>\n",
              "    </tr>\n",
              "    <tr>\n",
              "      <th>7</th>\n",
              "      <td>Daniel Lewis</td>\n",
              "      <td>Snow White</td>\n",
              "      <td>4</td>\n",
              "      <td>None</td>\n",
              "    </tr>\n",
              "    <tr>\n",
              "      <th>8</th>\n",
              "      <td>Elizabeth Thomas</td>\n",
              "      <td>Avatar</td>\n",
              "      <td>3</td>\n",
              "      <td>2011-01-15</td>\n",
              "    </tr>\n",
              "    <tr>\n",
              "      <th>9</th>\n",
              "      <td>Elizabeth Thomas</td>\n",
              "      <td>Snow White</td>\n",
              "      <td>5</td>\n",
              "      <td>2011-01-19</td>\n",
              "    </tr>\n",
              "    <tr>\n",
              "      <th>10</th>\n",
              "      <td>James Cameron</td>\n",
              "      <td>Avatar</td>\n",
              "      <td>5</td>\n",
              "      <td>2011-01-20</td>\n",
              "    </tr>\n",
              "    <tr>\n",
              "      <th>11</th>\n",
              "      <td>Mike Anderson</td>\n",
              "      <td>Gone with the Wind</td>\n",
              "      <td>3</td>\n",
              "      <td>2011-01-09</td>\n",
              "    </tr>\n",
              "    <tr>\n",
              "      <th>12</th>\n",
              "      <td>Sarah Martinez</td>\n",
              "      <td>Gone with the Wind</td>\n",
              "      <td>2</td>\n",
              "      <td>2011-01-22</td>\n",
              "    </tr>\n",
              "    <tr>\n",
              "      <th>13</th>\n",
              "      <td>Sarah Martinez</td>\n",
              "      <td>Gone with the Wind</td>\n",
              "      <td>4</td>\n",
              "      <td>2011-01-27</td>\n",
              "    </tr>\n",
              "  </tbody>\n",
              "</table>\n",
              "</div>"
            ],
            "text/plain": [
              "                name                    title  stars  ratingDate\n",
              "0       Ashley White                     E.T.      3  2011-01-02\n",
              "1    Brittany Harris  Raiders of the Lost Ark      2  2011-01-30\n",
              "2    Brittany Harris  Raiders of the Lost Ark      4  2011-01-12\n",
              "3    Brittany Harris       The Sound of Music      2  2011-01-20\n",
              "4      Chris Jackson                     E.T.      2  2011-01-22\n",
              "5      Chris Jackson  Raiders of the Lost Ark      4        None\n",
              "6      Chris Jackson       The Sound of Music      3  2011-01-27\n",
              "7       Daniel Lewis               Snow White      4        None\n",
              "8   Elizabeth Thomas                   Avatar      3  2011-01-15\n",
              "9   Elizabeth Thomas               Snow White      5  2011-01-19\n",
              "10     James Cameron                   Avatar      5  2011-01-20\n",
              "11     Mike Anderson       Gone with the Wind      3  2011-01-09\n",
              "12    Sarah Martinez       Gone with the Wind      2  2011-01-22\n",
              "13    Sarah Martinez       Gone with the Wind      4  2011-01-27"
            ]
          },
          "metadata": {
            "tags": []
          },
          "execution_count": 11
        }
      ]
    },
    {
      "cell_type": "markdown",
      "metadata": {
        "id": "YQ6lLHDiaAKN"
      },
      "source": [
        "## Question 4"
      ]
    },
    {
      "cell_type": "markdown",
      "metadata": {
        "id": "w821y7h6aAKN"
      },
      "source": [
        "For all cases where the same reviewer rated the same movie twice and gave it a higher rating the second time, return the reviewer's name and the title of the movie.\n"
      ]
    },
    {
      "cell_type": "code",
      "metadata": {
        "colab": {
          "base_uri": "https://localhost:8080/",
          "height": 79
        },
        "id": "Lkngc7cXJMol",
        "outputId": "355960fa-f74b-4f8a-a92d-11effeff3de8"
      },
      "source": [
        "query = '''\n",
        "\n",
        "'''\n",
        "\n",
        "pd.read_sql_query(query, conn)"
      ],
      "execution_count": null,
      "outputs": [
        {
          "output_type": "execute_result",
          "data": {
            "text/html": [
              "<div>\n",
              "<style scoped>\n",
              "    .dataframe tbody tr th:only-of-type {\n",
              "        vertical-align: middle;\n",
              "    }\n",
              "\n",
              "    .dataframe tbody tr th {\n",
              "        vertical-align: top;\n",
              "    }\n",
              "\n",
              "    .dataframe thead th {\n",
              "        text-align: right;\n",
              "    }\n",
              "</style>\n",
              "<table border=\"1\" class=\"dataframe\">\n",
              "  <thead>\n",
              "    <tr style=\"text-align: right;\">\n",
              "      <th></th>\n",
              "      <th>name</th>\n",
              "      <th>title</th>\n",
              "    </tr>\n",
              "  </thead>\n",
              "  <tbody>\n",
              "    <tr>\n",
              "      <th>0</th>\n",
              "      <td>Sarah Martinez</td>\n",
              "      <td>Gone with the Wind</td>\n",
              "    </tr>\n",
              "  </tbody>\n",
              "</table>\n",
              "</div>"
            ],
            "text/plain": [
              "             name               title\n",
              "0  Sarah Martinez  Gone with the Wind"
            ]
          },
          "metadata": {
            "tags": []
          },
          "execution_count": 12
        }
      ]
    },
    {
      "cell_type": "markdown",
      "metadata": {
        "id": "L7aWJlHSaAKN"
      },
      "source": [
        "## Question 5"
      ]
    },
    {
      "cell_type": "markdown",
      "metadata": {
        "id": "56fWnlA9aAKN"
      },
      "source": [
        "For each movie, return the title and the 'rating spread', that is, the difference between highest and lowest ratings given to that movie. Sort by rating spread from highest to lowest, then by movie title."
      ]
    },
    {
      "cell_type": "code",
      "metadata": {
        "colab": {
          "base_uri": "https://localhost:8080/",
          "height": 234
        },
        "id": "0dTVv_NpaAKN",
        "outputId": "1fa3e39d-c48c-4c2d-883a-1e5fac877841"
      },
      "source": [
        "query = '''\n",
        "\n",
        "SELECT M.Title,(MAX(RA.stars) - MIN(RA.stars)) AS Spread\n",
        "FROM Rating RA\n",
        "    JOIN Movie M USING (mID)\n",
        "GROUP BY M.mID\n",
        "ORDER BY Spread DESC,M.Title ASC\n",
        "\n",
        "'''\n",
        "\n",
        "pd.read_sql_query(query, conn)"
      ],
      "execution_count": null,
      "outputs": [
        {
          "output_type": "execute_result",
          "data": {
            "text/html": [
              "<div>\n",
              "<style scoped>\n",
              "    .dataframe tbody tr th:only-of-type {\n",
              "        vertical-align: middle;\n",
              "    }\n",
              "\n",
              "    .dataframe tbody tr th {\n",
              "        vertical-align: top;\n",
              "    }\n",
              "\n",
              "    .dataframe thead th {\n",
              "        text-align: right;\n",
              "    }\n",
              "</style>\n",
              "<table border=\"1\" class=\"dataframe\">\n",
              "  <thead>\n",
              "    <tr style=\"text-align: right;\">\n",
              "      <th></th>\n",
              "      <th>title</th>\n",
              "      <th>Spread</th>\n",
              "    </tr>\n",
              "  </thead>\n",
              "  <tbody>\n",
              "    <tr>\n",
              "      <th>0</th>\n",
              "      <td>Avatar</td>\n",
              "      <td>2</td>\n",
              "    </tr>\n",
              "    <tr>\n",
              "      <th>1</th>\n",
              "      <td>Gone with the Wind</td>\n",
              "      <td>2</td>\n",
              "    </tr>\n",
              "    <tr>\n",
              "      <th>2</th>\n",
              "      <td>Raiders of the Lost Ark</td>\n",
              "      <td>2</td>\n",
              "    </tr>\n",
              "    <tr>\n",
              "      <th>3</th>\n",
              "      <td>E.T.</td>\n",
              "      <td>1</td>\n",
              "    </tr>\n",
              "    <tr>\n",
              "      <th>4</th>\n",
              "      <td>Snow White</td>\n",
              "      <td>1</td>\n",
              "    </tr>\n",
              "    <tr>\n",
              "      <th>5</th>\n",
              "      <td>The Sound of Music</td>\n",
              "      <td>1</td>\n",
              "    </tr>\n",
              "  </tbody>\n",
              "</table>\n",
              "</div>"
            ],
            "text/plain": [
              "                     title  Spread\n",
              "0                   Avatar       2\n",
              "1       Gone with the Wind       2\n",
              "2  Raiders of the Lost Ark       2\n",
              "3                     E.T.       1\n",
              "4               Snow White       1\n",
              "5       The Sound of Music       1"
            ]
          },
          "metadata": {
            "tags": []
          },
          "execution_count": 14
        }
      ]
    },
    {
      "cell_type": "markdown",
      "metadata": {
        "id": "irKTt_saaAKN"
      },
      "source": [
        "## Question 6"
      ]
    },
    {
      "cell_type": "markdown",
      "metadata": {
        "id": "mfFjn3c5aAKN"
      },
      "source": [
        "\n",
        "For any rating where the reviewer is the same as the director of the movie, return the reviewer name, movie title, and number of stars.\n"
      ]
    },
    {
      "cell_type": "code",
      "metadata": {
        "colab": {
          "base_uri": "https://localhost:8080/",
          "height": 78
        },
        "id": "OAPDyBGTaAKN",
        "outputId": "0ebc965c-3ac5-4b1c-fa4d-c65a30e5f28a"
      },
      "source": [
        "query = '''\n",
        "SELECT R.name,M.title,RA.stars\n",
        "FROM Rating RA\n",
        "    JOIN Reviewer R USING (rID) \n",
        "    JOIN Movie M USING (mID) \n",
        "WHERE M.director = R.name\n",
        "'''\n",
        "\n",
        "pd.read_sql_query(query, conn)"
      ],
      "execution_count": null,
      "outputs": [
        {
          "output_type": "execute_result",
          "data": {
            "text/html": [
              "<div>\n",
              "<style scoped>\n",
              "    .dataframe tbody tr th:only-of-type {\n",
              "        vertical-align: middle;\n",
              "    }\n",
              "\n",
              "    .dataframe tbody tr th {\n",
              "        vertical-align: top;\n",
              "    }\n",
              "\n",
              "    .dataframe thead th {\n",
              "        text-align: right;\n",
              "    }\n",
              "</style>\n",
              "<table border=\"1\" class=\"dataframe\">\n",
              "  <thead>\n",
              "    <tr style=\"text-align: right;\">\n",
              "      <th></th>\n",
              "      <th>name</th>\n",
              "      <th>title</th>\n",
              "      <th>stars</th>\n",
              "    </tr>\n",
              "  </thead>\n",
              "  <tbody>\n",
              "    <tr>\n",
              "      <th>0</th>\n",
              "      <td>James Cameron</td>\n",
              "      <td>Avatar</td>\n",
              "      <td>5</td>\n",
              "    </tr>\n",
              "  </tbody>\n",
              "</table>\n",
              "</div>"
            ],
            "text/plain": [
              "            name   title  stars\n",
              "0  James Cameron  Avatar      5"
            ]
          },
          "metadata": {
            "tags": []
          },
          "execution_count": 12
        }
      ]
    },
    {
      "cell_type": "markdown",
      "metadata": {
        "id": "PUd8tuaaaAKN"
      },
      "source": [
        "## Question 7"
      ]
    },
    {
      "cell_type": "markdown",
      "metadata": {
        "id": "uWxM12ICaAKN"
      },
      "source": [
        "Find the titles of all movies not reviewed by Chris Jackson.\n"
      ]
    },
    {
      "cell_type": "code",
      "metadata": {
        "colab": {
          "base_uri": "https://localhost:8080/",
          "height": 199
        },
        "id": "BEPLSTNtJ_MN",
        "outputId": "59a04d2e-f4d7-4f6d-a7d2-4b483b2aa38f"
      },
      "source": [
        "query='''\n",
        "SELECT Title \n",
        "FROM Movie\n",
        "WHERE mID NOT IN\n",
        "    (\n",
        "    SELECT RA.mID\n",
        "    FROM Rating RA\n",
        "        JOIN Reviewer R USING (rID)\n",
        "    WHERE R.name = 'Chris Jackson'\n",
        "    )\n",
        "'''\n",
        "\n",
        "pd.read_sql_query(query, conn)"
      ],
      "execution_count": null,
      "outputs": [
        {
          "output_type": "execute_result",
          "data": {
            "text/html": [
              "<div>\n",
              "<style scoped>\n",
              "    .dataframe tbody tr th:only-of-type {\n",
              "        vertical-align: middle;\n",
              "    }\n",
              "\n",
              "    .dataframe tbody tr th {\n",
              "        vertical-align: top;\n",
              "    }\n",
              "\n",
              "    .dataframe thead th {\n",
              "        text-align: right;\n",
              "    }\n",
              "</style>\n",
              "<table border=\"1\" class=\"dataframe\">\n",
              "  <thead>\n",
              "    <tr style=\"text-align: right;\">\n",
              "      <th></th>\n",
              "      <th>title</th>\n",
              "    </tr>\n",
              "  </thead>\n",
              "  <tbody>\n",
              "    <tr>\n",
              "      <th>0</th>\n",
              "      <td>Gone with the Wind</td>\n",
              "    </tr>\n",
              "    <tr>\n",
              "      <th>1</th>\n",
              "      <td>Star Wars</td>\n",
              "    </tr>\n",
              "    <tr>\n",
              "      <th>2</th>\n",
              "      <td>Titanic</td>\n",
              "    </tr>\n",
              "    <tr>\n",
              "      <th>3</th>\n",
              "      <td>Snow White</td>\n",
              "    </tr>\n",
              "    <tr>\n",
              "      <th>4</th>\n",
              "      <td>Avatar</td>\n",
              "    </tr>\n",
              "  </tbody>\n",
              "</table>\n",
              "</div>"
            ],
            "text/plain": [
              "                title\n",
              "0  Gone with the Wind\n",
              "1           Star Wars\n",
              "2             Titanic\n",
              "3          Snow White\n",
              "4              Avatar"
            ]
          },
          "metadata": {
            "tags": []
          },
          "execution_count": 17
        }
      ]
    },
    {
      "cell_type": "markdown",
      "metadata": {
        "id": "dB7bUcmjaAKN"
      },
      "source": [
        "## Question 8"
      ]
    },
    {
      "cell_type": "markdown",
      "metadata": {
        "id": "g8aMh07SaAKN"
      },
      "source": [
        "Some directors directed more than one movie. For all such directors, return the titles of all movies directed by them, along with the director name. Sort by director name, then movie title."
      ]
    },
    {
      "cell_type": "code",
      "metadata": {
        "colab": {
          "base_uri": "https://localhost:8080/",
          "height": 108
        },
        "id": "g6qW4SmVDTKS",
        "outputId": "3345edb1-b532-4665-9ab9-d4ec177e32c3"
      },
      "source": [
        "query='''\n",
        "    SELECT director\n",
        "    FROM Movie\n",
        "    GROUP BY director\n",
        "    HAVING COUNT(*)>1\n",
        "'''\n",
        "pd.read_sql_query(query, conn)"
      ],
      "execution_count": null,
      "outputs": [
        {
          "output_type": "execute_result",
          "data": {
            "text/html": [
              "<div>\n",
              "<style scoped>\n",
              "    .dataframe tbody tr th:only-of-type {\n",
              "        vertical-align: middle;\n",
              "    }\n",
              "\n",
              "    .dataframe tbody tr th {\n",
              "        vertical-align: top;\n",
              "    }\n",
              "\n",
              "    .dataframe thead th {\n",
              "        text-align: right;\n",
              "    }\n",
              "</style>\n",
              "<table border=\"1\" class=\"dataframe\">\n",
              "  <thead>\n",
              "    <tr style=\"text-align: right;\">\n",
              "      <th></th>\n",
              "      <th>director</th>\n",
              "    </tr>\n",
              "  </thead>\n",
              "  <tbody>\n",
              "    <tr>\n",
              "      <th>0</th>\n",
              "      <td>James Cameron</td>\n",
              "    </tr>\n",
              "    <tr>\n",
              "      <th>1</th>\n",
              "      <td>Steven Spielberg</td>\n",
              "    </tr>\n",
              "  </tbody>\n",
              "</table>\n",
              "</div>"
            ],
            "text/plain": [
              "           director\n",
              "0     James Cameron\n",
              "1  Steven Spielberg"
            ]
          },
          "metadata": {
            "tags": []
          },
          "execution_count": 18
        }
      ]
    },
    {
      "cell_type": "code",
      "metadata": {
        "colab": {
          "base_uri": "https://localhost:8080/",
          "height": 169
        },
        "id": "W4ZFBQz-KrrH",
        "outputId": "8b5602d7-cf24-438d-df55-822c02a80072"
      },
      "source": [
        "query = '''\n",
        "\n",
        "SELECT title,director \n",
        "FROM Movie\n",
        "\n",
        "WHERE director in \n",
        "    (\n",
        "    SELECT director\n",
        "    FROM Movie\n",
        "    GROUP BY director\n",
        "    HAVING COUNT(*)>1\n",
        "    )\n",
        "\n",
        "ORDER BY director,title\n",
        "'''\n",
        "pd.read_sql_query(query, conn)"
      ],
      "execution_count": null,
      "outputs": [
        {
          "output_type": "execute_result",
          "data": {
            "text/html": [
              "<div>\n",
              "<style scoped>\n",
              "    .dataframe tbody tr th:only-of-type {\n",
              "        vertical-align: middle;\n",
              "    }\n",
              "\n",
              "    .dataframe tbody tr th {\n",
              "        vertical-align: top;\n",
              "    }\n",
              "\n",
              "    .dataframe thead th {\n",
              "        text-align: right;\n",
              "    }\n",
              "</style>\n",
              "<table border=\"1\" class=\"dataframe\">\n",
              "  <thead>\n",
              "    <tr style=\"text-align: right;\">\n",
              "      <th></th>\n",
              "      <th>title</th>\n",
              "      <th>director</th>\n",
              "    </tr>\n",
              "  </thead>\n",
              "  <tbody>\n",
              "    <tr>\n",
              "      <th>0</th>\n",
              "      <td>Avatar</td>\n",
              "      <td>James Cameron</td>\n",
              "    </tr>\n",
              "    <tr>\n",
              "      <th>1</th>\n",
              "      <td>Titanic</td>\n",
              "      <td>James Cameron</td>\n",
              "    </tr>\n",
              "    <tr>\n",
              "      <th>2</th>\n",
              "      <td>E.T.</td>\n",
              "      <td>Steven Spielberg</td>\n",
              "    </tr>\n",
              "    <tr>\n",
              "      <th>3</th>\n",
              "      <td>Raiders of the Lost Ark</td>\n",
              "      <td>Steven Spielberg</td>\n",
              "    </tr>\n",
              "  </tbody>\n",
              "</table>\n",
              "</div>"
            ],
            "text/plain": [
              "                     title          director\n",
              "0                   Avatar     James Cameron\n",
              "1                  Titanic     James Cameron\n",
              "2                     E.T.  Steven Spielberg\n",
              "3  Raiders of the Lost Ark  Steven Spielberg"
            ]
          },
          "metadata": {
            "tags": []
          },
          "execution_count": 19
        }
      ]
    },
    {
      "cell_type": "markdown",
      "metadata": {
        "id": "fDIhJ5GeaAKO"
      },
      "source": [
        "## Question 9"
      ]
    },
    {
      "cell_type": "markdown",
      "metadata": {
        "id": "KVbpIX7caAKO"
      },
      "source": [
        "Find the movie(s) with the lowest average rating. Return the movie title(s) and average rating. (Hint: This query may be more difficult to write in SQLite than other systems; you might think of it as finding the lowest average rating and then choosing the movie(s) with that average rating.)"
      ]
    },
    {
      "cell_type": "code",
      "metadata": {
        "colab": {
          "base_uri": "https://localhost:8080/",
          "height": 78
        },
        "id": "zhFrKMa4EFLF",
        "outputId": "25c18277-789d-4aab-b0e8-b2374ae9a81d"
      },
      "source": [
        "query='''\n",
        "SELECT MIN(average) \n",
        "FROM (\n",
        "    SELECT AVG(stars) AS Average \n",
        "    FROM Rating \n",
        "    GROUP BY mID\n",
        "    )\n",
        "'''\n",
        "pd.read_sql_query(query, conn)"
      ],
      "execution_count": null,
      "outputs": [
        {
          "output_type": "execute_result",
          "data": {
            "text/html": [
              "<div>\n",
              "<style scoped>\n",
              "    .dataframe tbody tr th:only-of-type {\n",
              "        vertical-align: middle;\n",
              "    }\n",
              "\n",
              "    .dataframe tbody tr th {\n",
              "        vertical-align: top;\n",
              "    }\n",
              "\n",
              "    .dataframe thead th {\n",
              "        text-align: right;\n",
              "    }\n",
              "</style>\n",
              "<table border=\"1\" class=\"dataframe\">\n",
              "  <thead>\n",
              "    <tr style=\"text-align: right;\">\n",
              "      <th></th>\n",
              "      <th>MIN(average)</th>\n",
              "    </tr>\n",
              "  </thead>\n",
              "  <tbody>\n",
              "    <tr>\n",
              "      <th>0</th>\n",
              "      <td>2.5</td>\n",
              "    </tr>\n",
              "  </tbody>\n",
              "</table>\n",
              "</div>"
            ],
            "text/plain": [
              "   MIN(average)\n",
              "0           2.5"
            ]
          },
          "metadata": {
            "tags": []
          },
          "execution_count": 20
        }
      ]
    },
    {
      "cell_type": "code",
      "metadata": {
        "colab": {
          "base_uri": "https://localhost:8080/",
          "height": 108
        },
        "id": "kFXs-QQBaAKO",
        "outputId": "97334327-aac9-4552-da3e-9cf35be4dc51"
      },
      "source": [
        "query = '''\n",
        "WITH AVERAGE_TABLE AS\n",
        "(\n",
        "    SELECT AVG(stars) AS Average \n",
        "    FROM Rating \n",
        "    GROUP BY mID\n",
        ")\n",
        "\n",
        "\n",
        "SELECT title,AVG(stars)\n",
        "FROM Rating \n",
        "    JOIN Movie USING (mID)\n",
        "GROUP BY mID\n",
        "HAVING AVG(stars) = (SELECT MIN(average) FROM AVERAGE_TABLE)\n",
        "\n",
        "\n",
        "'''\n",
        "pd.read_sql_query(query, conn)"
      ],
      "execution_count": null,
      "outputs": [
        {
          "output_type": "execute_result",
          "data": {
            "text/html": [
              "<div>\n",
              "<style scoped>\n",
              "    .dataframe tbody tr th:only-of-type {\n",
              "        vertical-align: middle;\n",
              "    }\n",
              "\n",
              "    .dataframe tbody tr th {\n",
              "        vertical-align: top;\n",
              "    }\n",
              "\n",
              "    .dataframe thead th {\n",
              "        text-align: right;\n",
              "    }\n",
              "</style>\n",
              "<table border=\"1\" class=\"dataframe\">\n",
              "  <thead>\n",
              "    <tr style=\"text-align: right;\">\n",
              "      <th></th>\n",
              "      <th>title</th>\n",
              "      <th>AVG(stars)</th>\n",
              "    </tr>\n",
              "  </thead>\n",
              "  <tbody>\n",
              "    <tr>\n",
              "      <th>0</th>\n",
              "      <td>The Sound of Music</td>\n",
              "      <td>2.5</td>\n",
              "    </tr>\n",
              "    <tr>\n",
              "      <th>1</th>\n",
              "      <td>E.T.</td>\n",
              "      <td>2.5</td>\n",
              "    </tr>\n",
              "  </tbody>\n",
              "</table>\n",
              "</div>"
            ],
            "text/plain": [
              "                title  AVG(stars)\n",
              "0  The Sound of Music         2.5\n",
              "1                E.T.         2.5"
            ]
          },
          "metadata": {
            "tags": []
          },
          "execution_count": 21
        }
      ]
    },
    {
      "cell_type": "markdown",
      "metadata": {
        "id": "T7xEOuS0aAKO"
      },
      "source": [
        "## Question 10"
      ]
    },
    {
      "cell_type": "markdown",
      "metadata": {
        "id": "bax9-12LaAKO"
      },
      "source": [
        "For each director, return the director's name together with the title(s) of the movie(s) they directed that received the highest rating among all of their movies, and the value of that rating. Ignore movies whose director is NULL."
      ]
    },
    {
      "cell_type": "code",
      "metadata": {
        "colab": {
          "base_uri": "https://localhost:8080/",
          "height": 233
        },
        "id": "i75BW5LkaAKO",
        "outputId": "7d1aef4d-66f0-4091-adcb-0dbdac29ce9f"
      },
      "source": [
        "query='''\n",
        "    SELECT mID,max(stars) AS star_max\n",
        "    FROM Rating \n",
        "        JOIN Movie USING (mID)\n",
        "    GROUP BY mID\n",
        "'''\n",
        "pd.read_sql_query(query, conn)"
      ],
      "execution_count": null,
      "outputs": [
        {
          "output_type": "execute_result",
          "data": {
            "text/html": [
              "<div>\n",
              "<style scoped>\n",
              "    .dataframe tbody tr th:only-of-type {\n",
              "        vertical-align: middle;\n",
              "    }\n",
              "\n",
              "    .dataframe tbody tr th {\n",
              "        vertical-align: top;\n",
              "    }\n",
              "\n",
              "    .dataframe thead th {\n",
              "        text-align: right;\n",
              "    }\n",
              "</style>\n",
              "<table border=\"1\" class=\"dataframe\">\n",
              "  <thead>\n",
              "    <tr style=\"text-align: right;\">\n",
              "      <th></th>\n",
              "      <th>mID</th>\n",
              "      <th>star_max</th>\n",
              "    </tr>\n",
              "  </thead>\n",
              "  <tbody>\n",
              "    <tr>\n",
              "      <th>0</th>\n",
              "      <td>101</td>\n",
              "      <td>4</td>\n",
              "    </tr>\n",
              "    <tr>\n",
              "      <th>1</th>\n",
              "      <td>103</td>\n",
              "      <td>3</td>\n",
              "    </tr>\n",
              "    <tr>\n",
              "      <th>2</th>\n",
              "      <td>104</td>\n",
              "      <td>3</td>\n",
              "    </tr>\n",
              "    <tr>\n",
              "      <th>3</th>\n",
              "      <td>106</td>\n",
              "      <td>5</td>\n",
              "    </tr>\n",
              "    <tr>\n",
              "      <th>4</th>\n",
              "      <td>107</td>\n",
              "      <td>5</td>\n",
              "    </tr>\n",
              "    <tr>\n",
              "      <th>5</th>\n",
              "      <td>108</td>\n",
              "      <td>4</td>\n",
              "    </tr>\n",
              "  </tbody>\n",
              "</table>\n",
              "</div>"
            ],
            "text/plain": [
              "   mID  star_max\n",
              "0  101         4\n",
              "1  103         3\n",
              "2  104         3\n",
              "3  106         5\n",
              "4  107         5\n",
              "5  108         4"
            ]
          },
          "metadata": {
            "tags": []
          },
          "execution_count": 7
        }
      ]
    },
    {
      "cell_type": "code",
      "metadata": {
        "colab": {
          "base_uri": "https://localhost:8080/",
          "height": 241
        },
        "id": "GMaXCdbTFe6g",
        "outputId": "8fcb95f6-f0a0-4e8a-cdb4-bc7c80888f71"
      },
      "source": [
        "query='''\n",
        "WITH HighestRating AS\n",
        "(\n",
        "    SELECT mID,max(stars) AS star_max\n",
        "    FROM Rating \n",
        "        JOIN Movie USING (mID)\n",
        "    GROUP BY mID\n",
        ")\n",
        " \n",
        "SELECT director,title,max(star_max) AS star_max\n",
        "FROM HighestRating\n",
        "    JOIN Movie USING (mID)\n",
        "WHERE director IS NOT NULL\n",
        "GROUP BY director\n",
        "'''\n",
        "pd.read_sql_query(query, conn)"
      ],
      "execution_count": null,
      "outputs": [
        {
          "output_type": "execute_result",
          "data": {
            "text/html": [
              "<div>\n",
              "<style scoped>\n",
              "    .dataframe tbody tr th:only-of-type {\n",
              "        vertical-align: middle;\n",
              "    }\n",
              "\n",
              "    .dataframe tbody tr th {\n",
              "        vertical-align: top;\n",
              "    }\n",
              "\n",
              "    .dataframe thead th {\n",
              "        text-align: right;\n",
              "    }\n",
              "</style>\n",
              "<table border=\"1\" class=\"dataframe\">\n",
              "  <thead>\n",
              "    <tr style=\"text-align: right;\">\n",
              "      <th></th>\n",
              "      <th>director</th>\n",
              "      <th>title</th>\n",
              "      <th>star_max</th>\n",
              "    </tr>\n",
              "  </thead>\n",
              "  <tbody>\n",
              "    <tr>\n",
              "      <th>0</th>\n",
              "      <td>James Cameron</td>\n",
              "      <td>Avatar</td>\n",
              "      <td>5</td>\n",
              "    </tr>\n",
              "    <tr>\n",
              "      <th>1</th>\n",
              "      <td>Robert Wise</td>\n",
              "      <td>The Sound of Music</td>\n",
              "      <td>3</td>\n",
              "    </tr>\n",
              "    <tr>\n",
              "      <th>2</th>\n",
              "      <td>Steven Spielberg</td>\n",
              "      <td>Raiders of the Lost Ark</td>\n",
              "      <td>4</td>\n",
              "    </tr>\n",
              "    <tr>\n",
              "      <th>3</th>\n",
              "      <td>Victor Fleming</td>\n",
              "      <td>Gone with the Wind</td>\n",
              "      <td>4</td>\n",
              "    </tr>\n",
              "  </tbody>\n",
              "</table>\n",
              "</div>"
            ],
            "text/plain": [
              "           director                    title  star_max\n",
              "0     James Cameron                   Avatar         5\n",
              "1       Robert Wise       The Sound of Music         3\n",
              "2  Steven Spielberg  Raiders of the Lost Ark         4\n",
              "3    Victor Fleming       Gone with the Wind         4"
            ]
          },
          "metadata": {
            "tags": []
          },
          "execution_count": 5
        }
      ]
    },
    {
      "cell_type": "markdown",
      "metadata": {
        "id": "js9_N1RcaAKO"
      },
      "source": [
        "## Challenge: question 11"
      ]
    },
    {
      "cell_type": "markdown",
      "metadata": {
        "id": "vUeaglxwaAKO"
      },
      "source": [
        "Find the difference between the average rating of movies released before 1980 and the average rating of movies released after 1980. (Make sure to calculate the average rating for each movie, then the average of those averages for movies before 1980 and movies after. Don't just calculate the overall average rating before and after 1980.)"
      ]
    },
    {
      "cell_type": "code",
      "metadata": {
        "colab": {
          "base_uri": "https://localhost:8080/",
          "height": 78
        },
        "id": "EmEwGnYTaAKO",
        "outputId": "369039a4-8637-4120-a419-6ab9fd25b8e8"
      },
      "source": [
        "query='''\n",
        "\n",
        "WITH \n",
        "Temp AS (\n",
        "  SELECT m.title as Title, avg(ra.stars) as avgStar, m.year as Year\n",
        "  FROM Movie AS m\n",
        "    JOIN Rating AS ra ON ra.mID = m.mID\n",
        "  GROUP BY m.title\n",
        "),\n",
        "\n",
        "Temp1 AS (\n",
        "  SELECT avg(avgStar) as X\n",
        "  FROM Temp\n",
        "  WHERE Year <= 1980\n",
        "),\n",
        "\n",
        "Temp2 AS (\n",
        "  SELECT avg(avgStar) as Y\n",
        "  FROM Temp\n",
        "  WHERE Year > 1980\n",
        ")\n",
        "\n",
        "--SELECT (SELECT X FROM Temp1) - (SELECT Y FROM Temp2)\n",
        "SELECT Temp1.X - Temp2.Y\n",
        "FROM Temp1 JOIN Temp2 USING (Common)\n",
        "'''\n",
        "\n",
        "pd.read_sql_query(query, conn)"
      ],
      "execution_count": null,
      "outputs": [
        {
          "output_type": "execute_result",
          "data": {
            "text/html": [
              "<div>\n",
              "<style scoped>\n",
              "    .dataframe tbody tr th:only-of-type {\n",
              "        vertical-align: middle;\n",
              "    }\n",
              "\n",
              "    .dataframe tbody tr th {\n",
              "        vertical-align: top;\n",
              "    }\n",
              "\n",
              "    .dataframe thead th {\n",
              "        text-align: right;\n",
              "    }\n",
              "</style>\n",
              "<table border=\"1\" class=\"dataframe\">\n",
              "  <thead>\n",
              "    <tr style=\"text-align: right;\">\n",
              "      <th></th>\n",
              "      <th>Temp1.X - Temp2.Y</th>\n",
              "    </tr>\n",
              "  </thead>\n",
              "  <tbody>\n",
              "    <tr>\n",
              "      <th>0</th>\n",
              "      <td>0.055556</td>\n",
              "    </tr>\n",
              "  </tbody>\n",
              "</table>\n",
              "</div>"
            ],
            "text/plain": [
              "   Temp1.X - Temp2.Y\n",
              "0           0.055556"
            ]
          },
          "metadata": {
            "tags": []
          },
          "execution_count": 28
        }
      ]
    }
  ]
}